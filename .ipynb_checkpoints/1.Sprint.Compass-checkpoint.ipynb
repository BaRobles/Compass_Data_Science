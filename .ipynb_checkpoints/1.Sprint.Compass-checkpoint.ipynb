{
 "cells": [
  {
   "cell_type": "code",
   "execution_count": null,
   "id": "462200e6-8245-4d92-bcaa-426d97d54f83",
   "metadata": {},
   "outputs": [],
   "source": [
    "%matplotlib inline\n",
    "\n",
    "import numpy as np \n",
    "import pandas as pd \n",
    "import matplotlib.pyplot as plt"
   ]
  },
  {
   "cell_type": "code",
   "execution_count": null,
   "id": "fff1f3b5-1bab-4841-bcde-d35f69cd85ce",
   "metadata": {},
   "outputs": [],
   "source": [
    "path = 'dataset-files/'"
   ]
  },
  {
   "cell_type": "code",
   "execution_count": null,
   "id": "fe7ac6d8-f817-4f84-966e-421034a76a98",
   "metadata": {},
   "outputs": [],
   "source": [
    "olist_customer = pd.read_csv(path + 'olist_customers_dataset.csv')\n",
    "olist_geolocation = pd.read_csv(path + 'olist_geolocation_dataset.csv')\n",
    "olist_order_items = pd.read_csv(path + 'olist_order_items_dataset.csv')\n",
    "olist_order_payments = pd.read_csv(path + 'olist_order_payments_dataset.csv')\n",
    "olist_order_reviews = pd.read_csv(path + 'olist_order_reviews_dataset.csv')\n",
    "olist_orders = pd.read_csv(path + 'olist_orders_dataset.csv')\n",
    "olist_products = pd.read_csv(path + 'olist_products_dataset.csv')\n",
    "olist_sellers = pd.read_csv(path + 'olist_sellers_dataset.csv')"
   ]
  },
  {
   "cell_type": "code",
   "execution_count": null,
   "id": "52bd3cd7-6a38-46e0-97d4-78f28371b6e4",
   "metadata": {},
   "outputs": [],
   "source": [
    "olist_customer.info()\n",
    "olist_customer.head()"
   ]
  },
  {
   "cell_type": "code",
   "execution_count": null,
   "id": "7210fd99-2253-4240-8475-430bca32c3a7",
   "metadata": {},
   "outputs": [],
   "source": [
    "olist_geolocation.info()\n",
    "olist_geolocation.head()"
   ]
  },
  {
   "cell_type": "code",
   "execution_count": null,
   "id": "24effe0c-4bdf-4711-abdb-b2e18a88fc06",
   "metadata": {},
   "outputs": [],
   "source": [
    "olist_order_items.info()\n",
    "olist_order_items.head()"
   ]
  },
  {
   "cell_type": "code",
   "execution_count": null,
   "id": "dc996014-1af9-48a4-9cab-897c397c624c",
   "metadata": {},
   "outputs": [],
   "source": [
    "olist_order_payments.info()\n",
    "olist_order_payments.head()"
   ]
  },
  {
   "cell_type": "code",
   "execution_count": null,
   "id": "24e08f75-fe1e-4872-88f5-379f312cafeb",
   "metadata": {},
   "outputs": [],
   "source": [
    "olist_order_reviews.info()\n",
    "olist_order_reviews.head()"
   ]
  },
  {
   "cell_type": "code",
   "execution_count": null,
   "id": "ba18931e-f0a9-4e75-adb5-0434ad13e55c",
   "metadata": {},
   "outputs": [],
   "source": [
    "olist_orders.info()\n",
    "olist_orders.head()"
   ]
  },
  {
   "cell_type": "code",
   "execution_count": null,
   "id": "7b2f42b8-6a45-4b6d-a873-b1380586c913",
   "metadata": {},
   "outputs": [],
   "source": [
    "olist_products.info()\n",
    "olist_products.head()"
   ]
  },
  {
   "cell_type": "code",
   "execution_count": null,
   "id": "71dd75d6-66dd-4ee2-8594-9c67d09e13cc",
   "metadata": {},
   "outputs": [],
   "source": [
    "olist_sellers.info()\n",
    "olist_sellers.head()"
   ]
  },
  {
   "cell_type": "markdown",
   "id": "c69818d8-e6d8-42d9-9a58-ee845721d0fe",
   "metadata": {},
   "source": [
    "# 1. Limpando os Dados"
   ]
  },
  {
   "cell_type": "markdown",
   "id": "4a1922ec-d92e-4a8c-96bb-e11e97e66094",
   "metadata": {},
   "source": [
    "### Datas – alterando o dtype de objeto para datetime."
   ]
  },
  {
   "cell_type": "code",
   "execution_count": null,
   "id": "62904227-f758-4145-8734-2091157be236",
   "metadata": {},
   "outputs": [],
   "source": [
    "olist_order_items['shipping_limit_date'] = pd.to_datetime(olist_order_items['shipping_limit_date'])\n",
    "olist_order_items.info()"
   ]
  },
  {
   "cell_type": "code",
   "execution_count": null,
   "id": "c1b790e4-66e9-4917-a714-dd3039ecdc43",
   "metadata": {},
   "outputs": [],
   "source": [
    "olist_order_reviews[['review_creation_date', 'review_answer_timestamp']] = \\\n",
    "olist_order_reviews[['review_creation_date', 'review_answer_timestamp']].apply(pd.to_datetime)\n",
    "\n",
    "olist_order_reviews.info()"
   ]
  },
  {
   "cell_type": "code",
   "execution_count": null,
   "id": "d43498c9-606c-4abb-b0c9-39b4614759ec",
   "metadata": {},
   "outputs": [],
   "source": [
    "olist_orders[['order_purchase_timestamp', 'order_approved_at', 'order_delivered_carrier_date', 'order_delivered_customer_date', 'order_estimated_delivery_date']] = \\\n",
    "olist_orders[['order_purchase_timestamp', 'order_approved_at', 'order_delivered_carrier_date', 'order_delivered_customer_date', 'order_estimated_delivery_date']]\\\n",
    ".apply(pd.to_datetime)\n",
    "olist_orders.info()"
   ]
  },
  {
   "cell_type": "markdown",
   "id": "77fb473d-b4fe-4e23-92f2-b74d2a8af521",
   "metadata": {},
   "source": [
    "### Removendo colunas"
   ]
  },
  {
   "cell_type": "markdown",
   "id": "0917bd1e-bebe-4677-b7c6-6b19c01158ea",
   "metadata": {},
   "source": [
    "As mensagens sobre as avaliações, bem como os seus títulos não serão apreciadas nessa análise, e portanto, devem ser removidas."
   ]
  },
  {
   "cell_type": "code",
   "execution_count": null,
   "id": "1cc311b3-8736-4f54-9f42-5ec3d3043458",
   "metadata": {},
   "outputs": [],
   "source": [
    "olist_order_reviews.drop(columns = [\"review_comment_title\", \"review_comment_message\"], inplace=True)"
   ]
  },
  {
   "cell_type": "code",
   "execution_count": null,
   "id": "2565470d-e9d6-4370-915b-0805f4763450",
   "metadata": {},
   "outputs": [],
   "source": [
    "olist_order_reviews.info()"
   ]
  },
  {
   "cell_type": "code",
   "execution_count": null,
   "id": "a7f21f84-eb3d-43d0-9054-1c6df1e097c2",
   "metadata": {},
   "outputs": [],
   "source": [
    "df_products = olist_products.drop(columns = [\"product_weight_g\", \"product_length_cm\", \"product_height_cm\", \"product_width_cm\"])\n",
    "df_products.info()"
   ]
  },
  {
   "cell_type": "markdown",
   "id": "1efc4ad8-a181-40a8-a07b-16eec7ad7ac8",
   "metadata": {},
   "source": [
    "### Removendo Linhas\n",
    "É necessário remover linhas também. Isso será feito com o fim de igualar a coluna 'product_id' com as demais, uma vez que é a única que contém informações, o que de nada adianta para nós."
   ]
  },
  {
   "cell_type": "code",
   "execution_count": null,
   "id": "cbe2268e-5d70-4361-8515-72c9b6ce3e12",
   "metadata": {},
   "outputs": [],
   "source": [
    "row_non_null_counts = df_products.notnull().sum(axis=1)\n",
    "df_products = df_products[row_non_null_counts > 1]\n",
    "df_products.info()"
   ]
  },
  {
   "cell_type": "markdown",
   "id": "17038167-f859-47e8-93e0-5fc2f7aef8bc",
   "metadata": {},
   "source": [
    "# Quais são as categorias com maior e menor receita dos últimos 12 meses?"
   ]
  },
  {
   "cell_type": "markdown",
   "id": "bf1a35a8-5e6d-4bfc-be2b-1fae13c176cd",
   "metadata": {},
   "source": [
    "Primeiro, unimos 'olist_orders' com 'olist_order_items' pelo 'order_id', para relacionar a data de compra com o preço."
   ]
  },
  {
   "cell_type": "code",
   "execution_count": null,
   "id": "f99a3190-61e9-4e3e-bb15-2ba384581374",
   "metadata": {},
   "outputs": [],
   "source": [
    "preco_e_data = pd.merge(olist_order_items, olist_orders, on='order_id')\n",
    "preco_e_data.info()"
   ]
  },
  {
   "cell_type": "markdown",
   "id": "418dc0ab-a3c1-4fd6-9f01-4b4e8f031450",
   "metadata": {},
   "source": [
    "Em seguida, precisamos unir o resultado acima com df_products, para fazer a análise por categorias."
   ]
  },
  {
   "cell_type": "code",
   "execution_count": null,
   "id": "2d34f39b-2d0b-426d-bc70-c8361eb79861",
   "metadata": {},
   "outputs": [],
   "source": [
    "preco_por_categoria = pd.merge(preco_e_data, df_products, on='product_id')\n",
    "\n",
    "# soma_por_categoria = precos_categorias.groupby('product_category_name')['price'].sum().reset_index()\n",
    "\n",
    "# soma_por_categoria\n",
    "preco_por_categoria.info()\n"
   ]
  },
  {
   "cell_type": "markdown",
   "id": "a175a101-0771-4824-be4f-3794ace5cb10",
   "metadata": {},
   "source": [
    "E então, selecionamos apenas os últimos 12 meses a partir de 3/9/2018, que é o último dia contido na tabela."
   ]
  },
  {
   "cell_type": "code",
   "execution_count": null,
   "id": "a8065dfc-74a2-42a2-85e3-dee171f6b905",
   "metadata": {
    "scrolled": true
   },
   "outputs": [],
   "source": [
    "ha_doze_meses = (pd.Timestamp('2018-09-03 09:06:57') - pd.Timedelta(365, \"d\"))#.strftime('%Y-%m-%d %H:%M:%S') \n",
    "ultimos_12_meses = preco_por_categoria[preco_por_categoria['order_purchase_timestamp'] >= ha_doze_meses]\n"
   ]
  },
  {
   "cell_type": "code",
   "execution_count": null,
   "id": "1f857cf5-b407-4700-a065-d1a3b42d3b93",
   "metadata": {},
   "outputs": [],
   "source": [
    "ultimos_12_meses.head()"
   ]
  },
  {
   "cell_type": "code",
   "execution_count": null,
   "id": "f2e77b3c-faf8-4099-80d5-87e597802b62",
   "metadata": {},
   "outputs": [],
   "source": [
    "categoria_soma_preco = ultimos_12_meses.groupby('product_category_name')['price'].sum().sort_values(ascending=False)"
   ]
  },
  {
   "cell_type": "markdown",
   "id": "1697fa73-89ca-4948-a913-1917efa4bab4",
   "metadata": {},
   "source": [
    "#### As categorias com maior receita nos últimos 12 meses:"
   ]
  },
  {
   "cell_type": "code",
   "execution_count": null,
   "id": "00e5f529-7803-4838-9fff-5198d22d5057",
   "metadata": {},
   "outputs": [],
   "source": [
    "categoria_soma_preco.head(10)"
   ]
  },
  {
   "cell_type": "markdown",
   "id": "78e6ec8d-aee2-490f-afac-77a3de32b4e0",
   "metadata": {},
   "source": [
    "#### As categorias com menor receita nos últimos 12 meses:"
   ]
  },
  {
   "cell_type": "code",
   "execution_count": null,
   "id": "c7cb38c7-6ee1-4730-9ea1-0ac1ce860bbe",
   "metadata": {},
   "outputs": [],
   "source": [
    "categoria_soma_preco.tail(10)"
   ]
  },
  {
   "cell_type": "markdown",
   "id": "aa2eaf42-346a-4114-8fa2-581d4d69f921",
   "metadata": {},
   "source": [
    "# Top 10 maiores sellers"
   ]
  },
  {
   "cell_type": "code",
   "execution_count": null,
   "id": "71541414-26f4-4b02-a9ff-d29b4dfaa775",
   "metadata": {},
   "outputs": [],
   "source": [
    "receita_sellers = preco_por_categoria.groupby('seller_id')['price'].sum().sort_values(ascending=False)\n",
    "receita_sellers.head(10)"
   ]
  },
  {
   "cell_type": "markdown",
   "id": "c6413453-e24a-4dc5-80bd-67cdad25dec4",
   "metadata": {},
   "source": [
    "# Top 10 piores sellers"
   ]
  },
  {
   "cell_type": "code",
   "execution_count": null,
   "id": "cb524ed4-dbd1-44a4-9263-5e9da3e2332f",
   "metadata": {},
   "outputs": [],
   "source": [
    "receita_sellers = preco_por_categoria.groupby('seller_id')['price'].sum().sort_values()\n",
    "receita_sellers.head(10)"
   ]
  },
  {
   "cell_type": "markdown",
   "id": "9a54e15c-b20d-4d45-9737-53cb1bdf7044",
   "metadata": {},
   "source": [
    "# Sellers que vendem o mesmo produto"
   ]
  },
  {
   "cell_type": "markdown",
   "id": "d890059e-2353-4245-861a-676198b3502e",
   "metadata": {},
   "source": [
    "Abaixo podemos ver os produtos que possuem mais de um seller."
   ]
  },
  {
   "cell_type": "code",
   "execution_count": null,
   "id": "9251d121-4a62-4f62-9453-a278e8d975e9",
   "metadata": {},
   "outputs": [],
   "source": [
    "seller_contagem = preco_por_categoria.groupby('product_id')['seller_id'].nunique()\n",
    "\n",
    "produtos_com_multiplos_sellers = seller_contagem[seller_contagem > 1].index\n",
    "\n",
    "df_filtrada = preco_por_categoria[preco_por_categoria['product_id'].isin(produtos_com_multiplos_sellers)]\n",
    "\n",
    "produto_por_seller = df_filtrada.set_index(['product_id', 'seller_id'])\n",
    "produto_por_seller\n"
   ]
  },
  {
   "cell_type": "code",
   "execution_count": null,
   "id": "30409fc9-960b-4d14-948d-aa2d0a001993",
   "metadata": {},
   "outputs": [],
   "source": [
    "num_sellers = len(preco_por_categoria.loc[preco_por_categoria['product_id'].isin(produtos_com_multiplos_sellers), 'seller_id'].unique())\n",
    "num_produtos = len(produtos_com_multiplos_sellers)\n",
    "\n",
    "print(\"Número de sellers com múltiplos produtos:\", num_sellers)\n",
    "print(\"Número de produtos com múltiplos sellers:\", num_produtos)"
   ]
  },
  {
   "cell_type": "markdown",
   "id": "645a1ff2-dd6b-4154-b709-616f33961c36",
   "metadata": {},
   "source": [
    "### Variação de preço entre os sellers\n",
    "\n",
    "Abaixo podemos ver a variação de preços entre os sellers para cada produto."
   ]
  },
  {
   "cell_type": "code",
   "execution_count": null,
   "id": "40e08385-11d4-4a6d-b8d9-cc64b469b0fb",
   "metadata": {},
   "outputs": [],
   "source": [
    "variacao_preco = produto_por_seller.groupby('product_id')['price'].agg(['min', 'max'])\n",
    "\n",
    "# Calculate price range for each product\n",
    "variacao_preco['range'] = variacao_preco['max'] - variacao_preco['min']\n",
    "\n",
    "variacao_preco_ordenada = variacao_preco.sort_values(by='range', ascending=False)\n",
    "\n",
    "# Display the price variation for each product sorted by range\n",
    "variacao_preco_ordenada"
   ]
  },
  {
   "cell_type": "markdown",
   "id": "ba4d5924-2b54-4b89-ab92-bd302cdfb7bc",
   "metadata": {},
   "source": [
    "Podemos ver acima que a maior variação de preço é de R$ 783,00."
   ]
  },
  {
   "cell_type": "markdown",
   "id": "3d702728-5196-4885-a002-8868b862d098",
   "metadata": {},
   "source": [
    "# EXTRA – há relação entre a variação de preço e faturamento?"
   ]
  },
  {
   "cell_type": "markdown",
   "id": "ec43e458-545f-4c27-812e-940dff43704f",
   "metadata": {},
   "source": [
    "Aproveitei o dataframe 'produto_por_seller', onde constam os produtos que posseum mais de um seller para armezenar os seller_id de cada vendedor. Utilizando esses valores, filtrei o dataframe preco_por_categoria. Esse último dataframe foi a mescla que havia feito anteriormente, para relacionar a data de compra com o preço. Com o filtro aplicado, fiz a soma de price por vendedor, a fim de saber o faturamento de cada um."
   ]
  },
  {
   "cell_type": "code",
   "execution_count": null,
   "id": "89ad0a02-db64-41dd-ae7c-285c17589db5",
   "metadata": {},
   "outputs": [],
   "source": [
    "\n",
    "\n",
    "sellers_selecionados = produto_por_seller.index.get_level_values('seller_id').unique()\n",
    "preco_por_categoria_filtrado = preco_por_categoria[preco_por_categoria['seller_id'].isin(sellers_selecionados)]\n",
    "\n"
   ]
  },
  {
   "cell_type": "code",
   "execution_count": null,
   "id": "5ce56862-8683-4854-bb98-4c33e443b1d2",
   "metadata": {},
   "outputs": [],
   "source": [
    "\n",
    "# # Group by seller_id and calculate the correlation between 'invoice' and 'price'\n",
    "# seller_corr = preco_por_categoria_filtered.groupby('seller_id')[['invoice', 'price']].corr().iloc[0::2,-1].reset_index()\n",
    "\n"
   ]
  },
  {
   "cell_type": "markdown",
   "id": "6cba3a5c-ac72-4f22-952b-ea76b587e49b",
   "metadata": {},
   "source": [
    "# Inflação de Preços"
   ]
  },
  {
   "cell_type": "markdown",
   "id": "0f28cc72-732b-4f24-86e9-e7d571ec20f9",
   "metadata": {},
   "source": [
    "Podemos ver abaixo que alguns produtos sofreram aumentos altíssimos ao longo do tempo. Alguns aumentaram acima de 300%, sendo o maior índice de inflação em 900%.\n",
    "\n",
    "Por outro lado, o preço de alguns produtos deflacionou, sendo o maior índice de deflação em 78,7%."
   ]
  },
  {
   "cell_type": "code",
   "execution_count": null,
   "id": "9d564a9f-cd04-43e3-88a7-18adee674cb7",
   "metadata": {},
   "outputs": [],
   "source": [
    "colunas_selecionadas = ['product_id', 'price', 'order_purchase_timestamp']\n",
    "\n",
    "df_preco_tempo_produto = preco_por_categoria[colunas_selecionadas].copy()\n",
    "\n",
    "dados_agrupados = df_preco_tempo_produto.groupby('product_id')\n",
    "\n",
    "precos_antigos_idx = dados_agrupados['order_purchase_timestamp'].idxmin()\n",
    "precos_novos_idx = dados_agrupados['order_purchase_timestamp'].idxmax()\n",
    "\n",
    "precos_antigos = df_preco_tempo_produto.loc[precos_antigos_idx]\n",
    "precos_novos = df_preco_tempo_produto.loc[precos_novos_idx]\n",
    "\n",
    "inflacao_absoluto = (precos_novos.set_index('product_id')['price'] - precos_antigos.set_index('product_id')['price']).abs()\n",
    "\n",
    "inflacao_porcentagem = (((precos_novos.set_index('product_id')['price'] - precos_antigos.set_index('product_id')['price']) / precos_antigos.set_index('product_id')['price']) * 100).round(1)\n",
    "\n",
    "inflacao_df = pd.DataFrame({'oldest_timestamp': precos_antigos.groupby('product_id')['order_purchase_timestamp'].min(),\n",
    "                          'newest_timestamp': precos_novos.groupby('product_id')['order_purchase_timestamp'].max(),\n",
    "                          'variação em R$': inflacao_absoluto,\n",
    "                          'variação em %': inflacao_porcentagem})\n",
    "\n",
    "inflacao_df = inflacao_df.sort_values(by='variação em %', ascending=False)\n",
    "\n",
    "inflacao_df\n"
   ]
  },
  {
   "cell_type": "code",
   "execution_count": null,
   "id": "9d02f3b7-a6c6-4450-8fcf-5ec96f269e35",
   "metadata": {},
   "outputs": [],
   "source": []
  },
  {
   "cell_type": "code",
   "execution_count": null,
   "id": "d271afd0-ff27-4ba8-ab75-5575ff855cec",
   "metadata": {},
   "outputs": [],
   "source": []
  }
 ],
 "metadata": {
  "kernelspec": {
   "display_name": "Python 3 (ipykernel)",
   "language": "python",
   "name": "python3"
  },
  "language_info": {
   "codemirror_mode": {
    "name": "ipython",
    "version": 3
   },
   "file_extension": ".py",
   "mimetype": "text/x-python",
   "name": "python",
   "nbconvert_exporter": "python",
   "pygments_lexer": "ipython3",
   "version": "3.11.7"
  }
 },
 "nbformat": 4,
 "nbformat_minor": 5
}
